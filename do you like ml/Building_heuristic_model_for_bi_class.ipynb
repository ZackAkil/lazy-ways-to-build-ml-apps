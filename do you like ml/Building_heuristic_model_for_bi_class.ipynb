{
  "nbformat": 4,
  "nbformat_minor": 0,
  "metadata": {
    "colab": {
      "name": "Building heuristic model for bi-class.ipynb",
      "version": "0.3.2",
      "provenance": []
    },
    "kernelspec": {
      "name": "python3",
      "display_name": "Python 3"
    }
  },
  "cells": [
    {
      "metadata": {
        "id": "3EkOs2E-FUwh",
        "colab_type": "code",
        "colab": {}
      },
      "cell_type": "code",
      "source": [
        "import pandas as pd"
      ],
      "execution_count": 0,
      "outputs": []
    },
    {
      "metadata": {
        "id": "q7s5Eq9wFcRw",
        "colab_type": "code",
        "colab": {}
      },
      "cell_type": "code",
      "source": [
        "data = pd.read_csv('people_into_ml.csv')"
      ],
      "execution_count": 0,
      "outputs": []
    },
    {
      "metadata": {
        "id": "i9HUNSgFFhex",
        "colab_type": "code",
        "colab": {
          "base_uri": "https://localhost:8080/",
          "height": 456
        },
        "outputId": "ba037df5-0d34-457f-9425-53a27ddbb280"
      },
      "cell_type": "code",
      "source": [
        "data.corr()"
      ],
      "execution_count": 32,
      "outputs": [
        {
          "output_type": "execute_result",
          "data": {
            "text/html": [
              "<div>\n",
              "<style scoped>\n",
              "    .dataframe tbody tr th:only-of-type {\n",
              "        vertical-align: middle;\n",
              "    }\n",
              "\n",
              "    .dataframe tbody tr th {\n",
              "        vertical-align: top;\n",
              "    }\n",
              "\n",
              "    .dataframe thead th {\n",
              "        text-align: right;\n",
              "    }\n",
              "</style>\n",
              "<table border=\"1\" class=\"dataframe\">\n",
              "  <thead>\n",
              "    <tr style=\"text-align: right;\">\n",
              "      <th></th>\n",
              "      <th>Unnamed: 0</th>\n",
              "      <th>0</th>\n",
              "      <th>1</th>\n",
              "      <th>2</th>\n",
              "      <th>3</th>\n",
              "      <th>4</th>\n",
              "      <th>5</th>\n",
              "      <th>6</th>\n",
              "      <th>7</th>\n",
              "      <th>8</th>\n",
              "      <th>9</th>\n",
              "      <th>y</th>\n",
              "    </tr>\n",
              "  </thead>\n",
              "  <tbody>\n",
              "    <tr>\n",
              "      <th>Unnamed: 0</th>\n",
              "      <td>1.000000</td>\n",
              "      <td>-0.029569</td>\n",
              "      <td>0.244582</td>\n",
              "      <td>-0.145980</td>\n",
              "      <td>-0.071420</td>\n",
              "      <td>-0.275827</td>\n",
              "      <td>-0.130926</td>\n",
              "      <td>0.111257</td>\n",
              "      <td>0.071495</td>\n",
              "      <td>0.007009</td>\n",
              "      <td>0.110400</td>\n",
              "      <td>0.022171</td>\n",
              "    </tr>\n",
              "    <tr>\n",
              "      <th>0</th>\n",
              "      <td>-0.029569</td>\n",
              "      <td>1.000000</td>\n",
              "      <td>0.082550</td>\n",
              "      <td>0.009832</td>\n",
              "      <td>0.033931</td>\n",
              "      <td>-0.048575</td>\n",
              "      <td>0.195094</td>\n",
              "      <td>0.018726</td>\n",
              "      <td>0.128716</td>\n",
              "      <td>-0.096138</td>\n",
              "      <td>-0.057750</td>\n",
              "      <td>-0.031894</td>\n",
              "    </tr>\n",
              "    <tr>\n",
              "      <th>1</th>\n",
              "      <td>0.244582</td>\n",
              "      <td>0.082550</td>\n",
              "      <td>1.000000</td>\n",
              "      <td>0.001243</td>\n",
              "      <td>0.038691</td>\n",
              "      <td>-0.920986</td>\n",
              "      <td>-0.283535</td>\n",
              "      <td>0.019733</td>\n",
              "      <td>0.088933</td>\n",
              "      <td>0.155092</td>\n",
              "      <td>0.550052</td>\n",
              "      <td>0.001525</td>\n",
              "    </tr>\n",
              "    <tr>\n",
              "      <th>2</th>\n",
              "      <td>-0.145980</td>\n",
              "      <td>0.009832</td>\n",
              "      <td>0.001243</td>\n",
              "      <td>1.000000</td>\n",
              "      <td>-0.000204</td>\n",
              "      <td>-0.051999</td>\n",
              "      <td>-0.117755</td>\n",
              "      <td>0.086844</td>\n",
              "      <td>0.004848</td>\n",
              "      <td>-0.013230</td>\n",
              "      <td>0.015762</td>\n",
              "      <td>-0.043231</td>\n",
              "    </tr>\n",
              "    <tr>\n",
              "      <th>3</th>\n",
              "      <td>-0.071420</td>\n",
              "      <td>0.033931</td>\n",
              "      <td>0.038691</td>\n",
              "      <td>-0.000204</td>\n",
              "      <td>1.000000</td>\n",
              "      <td>0.005427</td>\n",
              "      <td>0.094386</td>\n",
              "      <td>-0.080970</td>\n",
              "      <td>0.082458</td>\n",
              "      <td>0.152041</td>\n",
              "      <td>-0.029515</td>\n",
              "      <td>-0.063876</td>\n",
              "    </tr>\n",
              "    <tr>\n",
              "      <th>4</th>\n",
              "      <td>-0.275827</td>\n",
              "      <td>-0.048575</td>\n",
              "      <td>-0.920986</td>\n",
              "      <td>-0.051999</td>\n",
              "      <td>0.005427</td>\n",
              "      <td>1.000000</td>\n",
              "      <td>0.313818</td>\n",
              "      <td>-0.381603</td>\n",
              "      <td>-0.116481</td>\n",
              "      <td>-0.045095</td>\n",
              "      <td>-0.332087</td>\n",
              "      <td>0.234393</td>\n",
              "    </tr>\n",
              "    <tr>\n",
              "      <th>5</th>\n",
              "      <td>-0.130926</td>\n",
              "      <td>0.195094</td>\n",
              "      <td>-0.283535</td>\n",
              "      <td>-0.117755</td>\n",
              "      <td>0.094386</td>\n",
              "      <td>0.313818</td>\n",
              "      <td>1.000000</td>\n",
              "      <td>0.195936</td>\n",
              "      <td>-0.018952</td>\n",
              "      <td>-0.291518</td>\n",
              "      <td>-0.735903</td>\n",
              "      <td>-0.186191</td>\n",
              "    </tr>\n",
              "    <tr>\n",
              "      <th>6</th>\n",
              "      <td>0.111257</td>\n",
              "      <td>0.018726</td>\n",
              "      <td>0.019733</td>\n",
              "      <td>0.086844</td>\n",
              "      <td>-0.080970</td>\n",
              "      <td>-0.381603</td>\n",
              "      <td>0.195936</td>\n",
              "      <td>1.000000</td>\n",
              "      <td>0.091046</td>\n",
              "      <td>-0.425487</td>\n",
              "      <td>-0.619121</td>\n",
              "      <td>-0.681939</td>\n",
              "    </tr>\n",
              "    <tr>\n",
              "      <th>7</th>\n",
              "      <td>0.071495</td>\n",
              "      <td>0.128716</td>\n",
              "      <td>0.088933</td>\n",
              "      <td>0.004848</td>\n",
              "      <td>0.082458</td>\n",
              "      <td>-0.116481</td>\n",
              "      <td>-0.018952</td>\n",
              "      <td>0.091046</td>\n",
              "      <td>1.000000</td>\n",
              "      <td>-0.012969</td>\n",
              "      <td>-0.004083</td>\n",
              "      <td>0.006790</td>\n",
              "    </tr>\n",
              "    <tr>\n",
              "      <th>8</th>\n",
              "      <td>0.007009</td>\n",
              "      <td>-0.096138</td>\n",
              "      <td>0.155092</td>\n",
              "      <td>-0.013230</td>\n",
              "      <td>0.152041</td>\n",
              "      <td>-0.045095</td>\n",
              "      <td>-0.291518</td>\n",
              "      <td>-0.425487</td>\n",
              "      <td>-0.012969</td>\n",
              "      <td>1.000000</td>\n",
              "      <td>0.212334</td>\n",
              "      <td>0.415515</td>\n",
              "    </tr>\n",
              "    <tr>\n",
              "      <th>9</th>\n",
              "      <td>0.110400</td>\n",
              "      <td>-0.057750</td>\n",
              "      <td>0.550052</td>\n",
              "      <td>0.015762</td>\n",
              "      <td>-0.029515</td>\n",
              "      <td>-0.332087</td>\n",
              "      <td>-0.735903</td>\n",
              "      <td>-0.619121</td>\n",
              "      <td>-0.004083</td>\n",
              "      <td>0.212334</td>\n",
              "      <td>1.000000</td>\n",
              "      <td>0.421690</td>\n",
              "    </tr>\n",
              "    <tr>\n",
              "      <th>y</th>\n",
              "      <td>0.022171</td>\n",
              "      <td>-0.031894</td>\n",
              "      <td>0.001525</td>\n",
              "      <td>-0.043231</td>\n",
              "      <td>-0.063876</td>\n",
              "      <td>0.234393</td>\n",
              "      <td>-0.186191</td>\n",
              "      <td>-0.681939</td>\n",
              "      <td>0.006790</td>\n",
              "      <td>0.415515</td>\n",
              "      <td>0.421690</td>\n",
              "      <td>1.000000</td>\n",
              "    </tr>\n",
              "  </tbody>\n",
              "</table>\n",
              "</div>"
            ],
            "text/plain": [
              "            Unnamed: 0         0         1         2         3         4  \\\n",
              "Unnamed: 0    1.000000 -0.029569  0.244582 -0.145980 -0.071420 -0.275827   \n",
              "0            -0.029569  1.000000  0.082550  0.009832  0.033931 -0.048575   \n",
              "1             0.244582  0.082550  1.000000  0.001243  0.038691 -0.920986   \n",
              "2            -0.145980  0.009832  0.001243  1.000000 -0.000204 -0.051999   \n",
              "3            -0.071420  0.033931  0.038691 -0.000204  1.000000  0.005427   \n",
              "4            -0.275827 -0.048575 -0.920986 -0.051999  0.005427  1.000000   \n",
              "5            -0.130926  0.195094 -0.283535 -0.117755  0.094386  0.313818   \n",
              "6             0.111257  0.018726  0.019733  0.086844 -0.080970 -0.381603   \n",
              "7             0.071495  0.128716  0.088933  0.004848  0.082458 -0.116481   \n",
              "8             0.007009 -0.096138  0.155092 -0.013230  0.152041 -0.045095   \n",
              "9             0.110400 -0.057750  0.550052  0.015762 -0.029515 -0.332087   \n",
              "y             0.022171 -0.031894  0.001525 -0.043231 -0.063876  0.234393   \n",
              "\n",
              "                   5         6         7         8         9         y  \n",
              "Unnamed: 0 -0.130926  0.111257  0.071495  0.007009  0.110400  0.022171  \n",
              "0           0.195094  0.018726  0.128716 -0.096138 -0.057750 -0.031894  \n",
              "1          -0.283535  0.019733  0.088933  0.155092  0.550052  0.001525  \n",
              "2          -0.117755  0.086844  0.004848 -0.013230  0.015762 -0.043231  \n",
              "3           0.094386 -0.080970  0.082458  0.152041 -0.029515 -0.063876  \n",
              "4           0.313818 -0.381603 -0.116481 -0.045095 -0.332087  0.234393  \n",
              "5           1.000000  0.195936 -0.018952 -0.291518 -0.735903 -0.186191  \n",
              "6           0.195936  1.000000  0.091046 -0.425487 -0.619121 -0.681939  \n",
              "7          -0.018952  0.091046  1.000000 -0.012969 -0.004083  0.006790  \n",
              "8          -0.291518 -0.425487 -0.012969  1.000000  0.212334  0.415515  \n",
              "9          -0.735903 -0.619121 -0.004083  0.212334  1.000000  0.421690  \n",
              "y          -0.186191 -0.681939  0.006790  0.415515  0.421690  1.000000  "
            ]
          },
          "metadata": {
            "tags": []
          },
          "execution_count": 32
        }
      ]
    },
    {
      "metadata": {
        "id": "xqPCrZYPFiNE",
        "colab_type": "code",
        "colab": {}
      },
      "cell_type": "code",
      "source": [
        "import matplotlib.pyplot as plt"
      ],
      "execution_count": 0,
      "outputs": []
    },
    {
      "metadata": {
        "id": "rlyECUO9GBMr",
        "colab_type": "code",
        "colab": {
          "base_uri": "https://localhost:8080/",
          "height": 364
        },
        "outputId": "cbd1130b-e98d-4bd5-8563-9fe18619d492"
      },
      "cell_type": "code",
      "source": [
        "plt.scatter(data['6'], data['y'], c= data['y'], cmap='hot')"
      ],
      "execution_count": 34,
      "outputs": [
        {
          "output_type": "execute_result",
          "data": {
            "text/plain": [
              "<matplotlib.collections.PathCollection at 0x7f8bcb7fdf28>"
            ]
          },
          "metadata": {
            "tags": []
          },
          "execution_count": 34
        },
        {
          "output_type": "display_data",
          "data": {
            "image/png": "[encoded data removed]",
            "text/plain": [
              "<matplotlib.figure.Figure at 0x7f8bcbe9b550>"
            ]
          },
          "metadata": {
            "tags": []
          }
        }
      ]
    },
    {
      "metadata": {
        "id": "fxeFnx6bGHHq",
        "colab_type": "code",
        "colab": {}
      },
      "cell_type": "code",
      "source": [
        "def model(x):\n",
        "  return int(x['6'] < 3.5)"
      ],
      "execution_count": 0,
      "outputs": []
    },
    {
      "metadata": {
        "id": "lnLOmA3dGcjK",
        "colab_type": "code",
        "colab": {
          "base_uri": "https://localhost:8080/",
          "height": 34
        },
        "outputId": "a15b67da-34dc-4429-a725-797821cce190"
      },
      "cell_type": "code",
      "source": [
        "pred = data.apply(model, axis=1)\n",
        "pred.shape"
      ],
      "execution_count": 36,
      "outputs": [
        {
          "output_type": "execute_result",
          "data": {
            "text/plain": [
              "(100,)"
            ]
          },
          "metadata": {
            "tags": []
          },
          "execution_count": 36
        }
      ]
    },
    {
      "metadata": {
        "id": "Cz_s1381Gq04",
        "colab_type": "code",
        "colab": {
          "base_uri": "https://localhost:8080/",
          "height": 364
        },
        "outputId": "89fb44d1-a9fb-481f-e20f-32a04abb6ff1"
      },
      "cell_type": "code",
      "source": [
        "plt.scatter(data['6'], data['y'], c= pred, cmap='hot')"
      ],
      "execution_count": 37,
      "outputs": [
        {
          "output_type": "execute_result",
          "data": {
            "text/plain": [
              "<matplotlib.collections.PathCollection at 0x7f8bcb76bc50>"
            ]
          },
          "metadata": {
            "tags": []
          },
          "execution_count": 37
        },
        {
          "output_type": "display_data",
          "data": {
            "image/png": "[encoded data removed]",
            "text/plain": [
              "<matplotlib.figure.Figure at 0x7f8bcb79abe0>"
            ]
          },
          "metadata": {
            "tags": []
          }
        }
      ]
    },
    {
      "metadata": {
        "id": "7p6igbzcGrd7",
        "colab_type": "code",
        "colab": {}
      },
      "cell_type": "code",
      "source": [
        "from sklearn.metrics import accuracy_score"
      ],
      "execution_count": 0,
      "outputs": []
    },
    {
      "metadata": {
        "id": "ojSyVYECG2-p",
        "colab_type": "code",
        "colab": {
          "base_uri": "https://localhost:8080/",
          "height": 34
        },
        "outputId": "688cb38c-2064-4cad-9814-6487453aed41"
      },
      "cell_type": "code",
      "source": [
        "accuracy_score(data['y'], pred)"
      ],
      "execution_count": 39,
      "outputs": [
        {
          "output_type": "execute_result",
          "data": {
            "text/plain": [
              "0.83"
            ]
          },
          "metadata": {
            "tags": []
          },
          "execution_count": 39
        }
      ]
    },
    {
      "metadata": {
        "id": "3hHc4IVzHTaD",
        "colab_type": "code",
        "colab": {}
      },
      "cell_type": "code",
      "source": [
        ""
      ],
      "execution_count": 0,
      "outputs": []
    }
  ]
}